{
  "nbformat": 4,
  "nbformat_minor": 0,
  "metadata": {
    "colab": {
      "provenance": [],
      "gpuType": "T4",
      "authorship_tag": "ABX9TyMR5tnZRBF9iG0N4PNuN6os",
      "include_colab_link": true
    },
    "kernelspec": {
      "name": "python3",
      "display_name": "Python 3"
    },
    "language_info": {
      "name": "python"
    },
    "accelerator": "GPU"
  },
  "cells": [
    {
      "cell_type": "markdown",
      "metadata": {
        "id": "view-in-github",
        "colab_type": "text"
      },
      "source": [
        "<a href=\"https://colab.research.google.com/github/Aryan-Herur/WECintelsig2023AryanN/blob/main/Polyphasic/1)Embeddings/word_embeddings_glove6b.ipynb\" target=\"_parent\"><img src=\"https://colab.research.google.com/assets/colab-badge.svg\" alt=\"Open In Colab\"/></a>"
      ]
    },
    {
      "cell_type": "code",
      "source": [
        "import numpy as np # linear algebra\n",
        "import pandas as pd # data processing, CSV file I/O (e.g. pd.read_csv)\n",
        "from google.colab import drive, files\n",
        "import os\n",
        "drive.mount('/content/drive')\n",
        "dir_path=dir_path = \"/content/drive/MyDrive/NLP/glove6/\""
      ],
      "metadata": {
        "colab": {
          "base_uri": "https://localhost:8080/"
        },
        "id": "5AnfN_nvjMLe",
        "outputId": "51854488-efb0-4010-a43d-65ba7f64d9cd"
      },
      "execution_count": null,
      "outputs": [
        {
          "output_type": "stream",
          "name": "stdout",
          "text": [
            "Mounted at /content/drive\n"
          ]
        }
      ]
    },
    {
      "cell_type": "markdown",
      "source": [
        "from gensim.scripts.glove2word2vec import glove2word2vec\n",
        "from gensim.test.utils import get_tmpfile"
      ],
      "metadata": {
        "id": "dZSH9hHdgu6N"
      }
    },
    {
      "cell_type": "code",
      "source": [
        "import zipfile\n",
        "\n",
        "zip_path = \"/content/drive/MyDrive/NLP/glove6/glove.6B.zip\"\n",
        "extract_path = \"/content/drive/MyDrive/NLP/glove6/\"\n",
        "\n",
        "# Open the zip file for reading\n",
        "with zipfile.ZipFile(zip_path, 'r') as zip_ref:\n",
        "    # Extract all files to the given directory\n",
        "    zip_ref.extractall(extract_path)"
      ],
      "metadata": {
        "id": "zIMIF8svjV9a"
      },
      "execution_count": null,
      "outputs": []
    },
    {
      "cell_type": "code",
      "source": [
        "# Specify the path to your text file\n",
        "file_path = \"/content/drive/MyDrive/NLP/glove6/glove.6B.100d.txt\"\n",
        "\n",
        "try:\n",
        "    # Open the file for reading\n",
        "    with open(file_path, 'r') as file:\n",
        "        # Read and print the first line\n",
        "        first_line = file.readline()\n",
        "        print(\"First line of the file:\")\n",
        "        print(first_line)\n",
        "except FileNotFoundError:\n",
        "    print(\"File not found. Please check the file path.\")\n",
        "except Exception as e:\n",
        "    print(f\"An error occurred: {e}\")"
      ],
      "metadata": {
        "colab": {
          "base_uri": "https://localhost:8080/"
        },
        "id": "cZpr5V6uuIFY",
        "outputId": "757c06a5-6ebd-4b39-f324-e466532d5e12"
      },
      "execution_count": null,
      "outputs": [
        {
          "output_type": "stream",
          "name": "stdout",
          "text": [
            "First line of the file:\n",
            "the -0.038194 -0.24487 0.72812 -0.39961 0.083172 0.043953 -0.39141 0.3344 -0.57545 0.087459 0.28787 -0.06731 0.30906 -0.26384 -0.13231 -0.20757 0.33395 -0.33848 -0.31743 -0.48336 0.1464 -0.37304 0.34577 0.052041 0.44946 -0.46971 0.02628 -0.54155 -0.15518 -0.14107 -0.039722 0.28277 0.14393 0.23464 -0.31021 0.086173 0.20397 0.52624 0.17164 -0.082378 -0.71787 -0.41531 0.20335 -0.12763 0.41367 0.55187 0.57908 -0.33477 -0.36559 -0.54857 -0.062892 0.26584 0.30205 0.99775 -0.80481 -3.0243 0.01254 -0.36942 2.2167 0.72201 -0.24978 0.92136 0.034514 0.46745 1.1079 -0.19358 -0.074575 0.23353 -0.052062 -0.22044 0.057162 -0.15806 -0.30798 -0.41625 0.37972 0.15006 -0.53212 -0.2055 -1.2526 0.071624 0.70565 0.49744 -0.42063 0.26148 -1.538 -0.30223 -0.073438 -0.28312 0.37104 -0.25217 0.016215 -0.017099 -0.38984 0.87424 -0.72569 -0.51058 -0.52028 -0.1459 0.8278 0.27062\n",
            "\n"
          ]
        }
      ]
    },
    {
      "cell_type": "code",
      "source": [
        "#file_path = \"/content/drive/MyDrive/NLP/glove840/glove.840B.300d.txt\"\n",
        "\n",
        "# Text to append as the new first line\n",
        "#new_first_line = \"2200000 300\"\n",
        "\n",
        "# Specify a temporary file path\n",
        "#temp_file_path = \"/content/drive/MyDrive/NLP/glove840/cglove.840B.300d.txt\"\n",
        "\n",
        "#try:\n",
        "    # Create a temporary file and write the new first line\n",
        " #   with open(temp_file_path, 'w') as temp_file:\n",
        "        temp_file.write(new_first_line + '\\n')\n",
        "\n",
        "  #  # Append the content of the original file to the temporary file\n",
        "   # with open(file_path, 'r') as original_file:\n",
        "    #    with open(temp_file_path, 'a') as temp_file:\n",
        "     #       shutil.copyfileobj(original_file, temp_file)\n",
        "\n",
        "    # Replace the original file with the temporary file\n",
        "    #shutil.move(temp_file_path, file_path)\n",
        "\n",
        "    #print(\"New line added as the first line of the file without reading the original file.\")\n",
        "\n",
        "#except Exception as e:\n",
        " #   print(f\"An error occurred: {e}\")\n",
        "\n",
        "\n",
        "\n"
      ],
      "metadata": {
        "colab": {
          "base_uri": "https://localhost:8080/"
        },
        "id": "-G1VUmtsu2ig",
        "outputId": "11d85bb0-d2a1-41ad-c143-d6697d9ae022"
      },
      "execution_count": null,
      "outputs": [
        {
          "output_type": "stream",
          "name": "stdout",
          "text": [
            "New line added as the first line of the file without reading the original file.\n"
          ]
        }
      ]
    },
    {
      "cell_type": "code",
      "source": [
        "#file_path = \"/content/drive/MyDrive/NLP/glove840/glove.840B.300d.txt\"\n",
        "\n",
        "#try:\n",
        " #   # Open the file for reading\n",
        "  #  with open(file_path, 'r') as file:\n",
        "   #     # Read and print the first line\n",
        "    #    first_line = file.readline()\n",
        "     #   print(\"First line of the file:\")\n",
        "      #  print(first_line)\n",
        "#except FileNotFoundError:\n",
        "#    print(\"File not found. Please check the file path.\")\n",
        "#except Exception as e:\n",
        " #   print(f\"An error occurred: {e}\")"
      ],
      "metadata": {
        "id": "N3sSpFhmwv9h",
        "outputId": "0d8e643a-cef4-41c7-fd82-af66afc21079",
        "colab": {
          "base_uri": "https://localhost:8080/"
        }
      },
      "execution_count": null,
      "outputs": [
        {
          "output_type": "stream",
          "name": "stdout",
          "text": [
            "First line of the file:\n",
            "2200000 300\n",
            "\n"
          ]
        }
      ]
    },
    {
      "cell_type": "code",
      "execution_count": null,
      "metadata": {
        "colab": {
          "base_uri": "https://localhost:8080/"
        },
        "id": "X3b8bx9ZT2Tn",
        "outputId": "525502dd-07f3-479e-9577-39521bff44bb"
      },
      "outputs": [
        {
          "output_type": "stream",
          "name": "stderr",
          "text": [
            "<ipython-input-6-cf5ec06a895f>:9: DeprecationWarning: Call to deprecated `glove2word2vec` (KeyedVectors.load_word2vec_format(.., binary=False, no_header=True) loads GLoVE text vectors.).\n",
            "  glove2word2vec('/content/drive/MyDrive/NLP/glove6/glove.6B.100d.txt', target_file)\n"
          ]
        },
        {
          "output_type": "stream",
          "name": "stdout",
          "text": [
            "Word-embedding pairs are saved to /content/drive/MyDrive/NLP/word_embeddings_glove840/TwoAGloVe.csv\n"
          ]
        }
      ],
      "source": [
        "import csv\n",
        "from gensim.models import KeyedVectors\n",
        "from gensim.scripts.glove2word2vec import glove2word2vec\n",
        "from gensim.test.utils import get_tmpfile\n",
        "\n",
        "# Load pre-trained GloVe embeddings\n",
        "glove_file = \"/content/drive/MyDrive/NLP/glove6/glove.6B.100d.txt\"\n",
        "target_file = get_tmpfile('/content/drive/MyDrive/NLP/glove6/word2vec.6B.100d.txt')\n",
        "glove2word2vec('/content/drive/MyDrive/NLP/glove6/glove.6B.100d.txt', target_file)\n",
        "\n",
        "\n",
        "word_vectors = KeyedVectors.load_word2vec_format(target_file, binary=False)\n",
        "\n",
        "# Defining a list of words for which you want to store embeddings\n",
        "word_list = [\"apple\", \"banana\", \"cat\", \"dog\", \"elephant\"]\n",
        "\n",
        "# Creating a dictionary to store word-embedding pairs\n",
        "word_embedding_dict = {}\n",
        "for word in word_list:\n",
        "    if word in word_vectors:\n",
        "        word_embedding_dict[word] = word_vectors[word]\n",
        "\n",
        "\n",
        "# Specify the path for the CSV file\n",
        "csv_file_path = \"/content/drive/MyDrive/NLP/word_embeddings_glove840/TwoAGloVe.csv\"\n",
        "\n",
        "# Write word-embedding pairs to the CSV file\n",
        "with open(csv_file_path, 'w', newline='') as csv_file:\n",
        "    writer = csv.writer(csv_file)\n",
        "\n",
        "    # Write the header row\n",
        "    writer.writerow([\"Word\", \"Embedding\"])\n",
        "\n",
        "    # Write word-embedding pairs\n",
        "    for word, embedding in word_embedding_dict.items():\n",
        "        writer.writerow([word, \",\".join(map(str, embedding))])\n",
        "\n",
        "print(\"Word-embedding pairs are saved to\", csv_file_path)"
      ]
    }
  ]
}